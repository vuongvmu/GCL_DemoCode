{
  "cells": [
    {
      "cell_type": "markdown",
      "metadata": {
        "id": "view-in-github",
        "colab_type": "text"
      },
      "source": [
        "<a href=\"https://colab.research.google.com/github/vuongvmu/GCL_DemoCode/blob/main/save_model_tf_onnx.ipynb\" target=\"_parent\"><img src=\"https://colab.research.google.com/assets/colab-badge.svg\" alt=\"Open In Colab\"/></a>"
      ]
    },
    {
      "cell_type": "code",
      "source": [
        "from google.colab import drive\n",
        "drive.mount('/content/drive')"
      ],
      "metadata": {
        "id": "H7MjxzkNg4ty",
        "outputId": "09f5ae1a-cf65-46b3-fb06-6644c35bfaf9",
        "colab": {
          "base_uri": "https://localhost:8080/"
        }
      },
      "execution_count": 1,
      "outputs": [
        {
          "output_type": "stream",
          "name": "stdout",
          "text": [
            "Drive already mounted at /content/drive; to attempt to forcibly remount, call drive.mount(\"/content/drive\", force_remount=True).\n"
          ]
        }
      ]
    },
    {
      "cell_type": "code",
      "source": [
        "!pip install onnxruntime\n",
        "!pip install tf2onnx\n",
        "!pip install keras==3.0.0"
      ],
      "metadata": {
        "id": "amCRLgCKg4wm"
      },
      "execution_count": null,
      "outputs": []
    },
    {
      "cell_type": "code",
      "source": [
        "!pip install -U tf2onnx"
      ],
      "metadata": {
        "id": "WW8WUxlAsOHt"
      },
      "execution_count": null,
      "outputs": []
    },
    {
      "cell_type": "code",
      "source": [
        "import numpy as np\n",
        "import tensorflow as tf"
      ],
      "metadata": {
        "id": "T5ksdm0Wimc5"
      },
      "execution_count": 3,
      "outputs": []
    },
    {
      "cell_type": "code",
      "source": [
        "model = tf.keras.models.load_model('/content/drive/MyDrive/models/4096.h5')"
      ],
      "metadata": {
        "id": "Bb2SG5b2imgD",
        "outputId": "7eb68050-607f-4b0d-e8c2-7261e4fa8fe2",
        "colab": {
          "base_uri": "https://localhost:8080/"
        }
      },
      "execution_count": 4,
      "outputs": [
        {
          "output_type": "stream",
          "name": "stderr",
          "text": [
            "WARNING:absl:No training configuration found in the save file, so the model was *not* compiled. Compile it manually.\n"
          ]
        }
      ]
    },
    {
      "cell_type": "code",
      "source": [
        "model.summary()"
      ],
      "metadata": {
        "id": "oAwNl2X3imiz"
      },
      "execution_count": null,
      "outputs": []
    },
    {
      "cell_type": "code",
      "source": [
        "!pip install tensorflow==2.16.1"
      ],
      "metadata": {
        "id": "f2lpXiR_mG-H"
      },
      "execution_count": null,
      "outputs": []
    },
    {
      "cell_type": "code",
      "source": [
        "!pip list"
      ],
      "metadata": {
        "id": "5mXhpwClmUM1"
      },
      "execution_count": null,
      "outputs": []
    },
    {
      "cell_type": "code",
      "source": [
        "import tf2onnx\n",
        "import onnx\n",
        "import tensorflow as tf\n",
        "\n",
        "from tensorflow.keras.models import load_model"
      ],
      "metadata": {
        "id": "lfdqfU-Mg4zJ"
      },
      "execution_count": 8,
      "outputs": []
    },
    {
      "cell_type": "code",
      "source": [
        "\n",
        "_keras_model = load_model('/content/drive/MyDrive/models/4096.h5')\n"
      ],
      "metadata": {
        "id": "o__0cEUng41w",
        "outputId": "9b5748d0-2079-48f5-809c-3abe01abbf08",
        "colab": {
          "base_uri": "https://localhost:8080/"
        }
      },
      "execution_count": 11,
      "outputs": [
        {
          "output_type": "stream",
          "name": "stderr",
          "text": [
            "WARNING:absl:No training configuration found in the save file, so the model was *not* compiled. Compile it manually.\n"
          ]
        }
      ]
    },
    {
      "cell_type": "code",
      "source": [
        "tf.saved_model.save(_keras_model, '/content/4096_saved_model')"
      ],
      "metadata": {
        "id": "B4iHwaJ2ox8B"
      },
      "execution_count": 20,
      "outputs": []
    },
    {
      "cell_type": "code",
      "source": [
        "\n",
        "import tf2onnx\n",
        "model = tf.saved_model.load('/content/4096_saved_model/')\n",
        "\n"
      ],
      "metadata": {
        "id": "K5EYQ-Sfg44b"
      },
      "execution_count": 30,
      "outputs": []
    },
    {
      "cell_type": "code",
      "source": [
        "_onnx_model, _external_tensor_storage = tf2onnx.convert.from_keras(model)"
      ],
      "metadata": {
        "id": "MVAc7GIdt3Z_"
      },
      "execution_count": null,
      "outputs": []
    },
    {
      "cell_type": "code",
      "source": [
        "import subprocess\n",
        "proc = subprocess.run('python -m tf2onnx.convert --saved-model 4096_saved_model '\n",
        "                      '--output 4096_rnn.onnx --opset 12'.split(),\n",
        "                      capture_output=True)\n",
        "print(proc.returncode)\n",
        "print(proc.stdout.decode('ascii'))\n",
        "print(proc.stderr.decode('ascii'))"
      ],
      "metadata": {
        "id": "IBW49ehduk1I",
        "outputId": "fcd03bcf-363a-4463-df91-d61c14b60b0a",
        "colab": {
          "base_uri": "https://localhost:8080/"
        }
      },
      "execution_count": 32,
      "outputs": [
        {
          "output_type": "stream",
          "name": "stdout",
          "text": [
            "-9\n",
            "\n",
            "/usr/lib/python3.10/runpy.py:126: RuntimeWarning: 'tf2onnx.convert' found in sys.modules after import of package 'tf2onnx', but prior to execution of 'tf2onnx.convert'; this may result in unpredictable behaviour\n",
            "  warn(RuntimeWarning(msg))\n",
            "2024-05-14 10:52:41,044 - WARNING - '--tag' not specified for saved_model. Using --tag serve\n",
            "2024-05-14 10:52:45,514 - INFO - Signatures found in model: [serving_default].\n",
            "2024-05-14 10:52:45,514 - WARNING - '--signature_def' not specified, using first signature: serving_default\n",
            "2024-05-14 10:52:45,515 - INFO - Output names: ['output_0']\n",
            "\n"
          ]
        }
      ]
    },
    {
      "cell_type": "code",
      "source": [],
      "metadata": {
        "id": "fw8165sBuk-p"
      },
      "execution_count": null,
      "outputs": []
    },
    {
      "cell_type": "code",
      "source": [
        "!python3 -m tf2onnx.convert --saved-model \"/content/4096_saved_model\"  --opset 9 --output \"/content/4096.onnx\""
      ],
      "metadata": {
        "id": "yxtt2AeLg47B",
        "outputId": "ecfcd367-ea8c-4667-9398-f96ed11700cc",
        "colab": {
          "base_uri": "https://localhost:8080/"
        }
      },
      "execution_count": 24,
      "outputs": [
        {
          "output_type": "stream",
          "name": "stdout",
          "text": [
            "/usr/lib/python3.10/runpy.py:126: RuntimeWarning: 'tf2onnx.convert' found in sys.modules after import of package 'tf2onnx', but prior to execution of 'tf2onnx.convert'; this may result in unpredictable behaviour\n",
            "  warn(RuntimeWarning(msg))\n",
            "2024-05-14 10:42:04,453 - WARNING - '--tag' not specified for saved_model. Using --tag serve\n",
            "2024-05-14 10:42:07,273 - INFO - Signatures found in model: [serving_default].\n",
            "2024-05-14 10:42:07,274 - WARNING - '--signature_def' not specified, using first signature: serving_default\n",
            "2024-05-14 10:42:07,274 - INFO - Output names: ['output_0']\n",
            "^C\n"
          ]
        }
      ]
    }
  ],
  "metadata": {
    "colab": {
      "provenance": [],
      "include_colab_link": true
    },
    "kernelspec": {
      "display_name": "Python 3",
      "name": "python3"
    },
    "language_info": {
      "name": "python"
    }
  },
  "nbformat": 4,
  "nbformat_minor": 0
}