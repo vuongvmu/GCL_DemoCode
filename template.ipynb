{
  "cells": [
    {
      "cell_type": "markdown",
      "metadata": {
        "id": "view-in-github",
        "colab_type": "text"
      },
      "source": [
        "<a href=\"https://colab.research.google.com/github/vuongvmu/GoogleColabDemoCode/blob/main/template.ipynb\" target=\"_parent\"><img src=\"https://colab.research.google.com/assets/colab-badge.svg\" alt=\"Open In Colab\"/></a>"
      ]
    },
    {
      "cell_type": "markdown",
      "source": [],
      "metadata": {
        "id": "6liCtEXEGJb8"
      }
    },
    {
      "cell_type": "markdown",
      "source": [
        "Translate Template"
      ],
      "metadata": {
        "id": "HwMbRHItGjC7"
      }
    },
    {
      "cell_type": "code",
      "source": [
        "GIS"
      ],
      "metadata": {
        "id": "UXylD48HGIlN"
      },
      "execution_count": null,
      "outputs": []
    },
    {
      "cell_type": "markdown",
      "source": [
        "1.\tLịch trình phát triển GIS\n",
        "Theo tài liệu [], đầu thập niên 1960 Hệ thống thông tin địa lý (Geographic Information System – GIS) có nguồn gốc là một hệ thống máy tính dùng để lưu trữ và phân tích thông tin địa lý, ứng dụng ban đầu tập trung vào việc tạo và hiển thị bản đồ kỹ thuật số.\n",
        "Với sự phát triển của Công nghệ thông tin, nhiều hệ quản trị cơ sở dữ liệu địa lý và hệ thống GIS bắt đầu được tích hợp các công nghệ để quản lý và khai thác thông tin địa lý một cách hiệu quả. Một dấu mốc quan trong là sự phát triển của Hệ thống định vị toàn cầu (GPS) và cảm biến địa lý vào những năm đầu của thập niên 1980, chúng được tích hợp cùng với hệ thống GIS đã mở rộng ứng dụng GIS sang nhiều lĩnh vực khác nhau như quản lý tài nguyên và quy hoạch đô thị. Tuy nhiên, thời điểm này việc truy cập đến các hệ thống GIS gặp khá nhiều khó khăn. Thay vì truy cập từ xa, người dùng chỉ có thể sử dụng trực tiếp trên máy tính được cài đặt hệ thống GIS.\n",
        "Mặc dù Internet nói chung và công nghệ Web đã xuất hiện từ năm 1990, nhưng với sự hạn chế về tốc độ đường truyền và là công nghệ web tĩnh (mọi thông tin trên trang web đã được thiết kế trước) nên đã không giúp ích được nhiều về phương thức truy cập và triển khai các hệ thống GIS. Do vậy, giai đoạn này công nghệ GIS tập trung vào hoàn thiện và tối ưu các hệ quản trị cơ sở dữ liệu thông tin địa lý.\n",
        "Đầu những năm 2000, với sự hoàn thiện của mô hình tính toán phân tán (distributed computing) và công nghệ Web động (nội dung trang web có thể lập trình từ phía Server) đã thay đổi hoàn toàn kiến trúc của phần mềm quản lý nói chung và quản lý thông tin địa lý nói riêng. Thay cho vì triển khai theo mô hình tập trung, hệ thống GIS được triển khai theo mô hình phân tán (Client – Server). Theo đó, người dùng dễ dàng truy cập đến hệ thống GIS (trên Server) thông qua các trình duyệt Web, gọi là công nghệ WebGIS. Có thể nói, sự xuất hiện Google Map năm 2005 như là một lời khẳng định rõ nét về sự thành công của công nghệ WebGIS. Đặc biệt hơn, Google đã phát hành miễn phí framework hiển thị bản đồ trên các thiết bị Client sử dụng trình duyệt Web có tên OpenLayer. Kể từ đó, WebGIS được xem như là một công nghệ tiêu chuẩn để xây dựng hệ thống GIS. Khác với sự đa dạng về hệ quản trị cơ sở dữ liệu địa lý được dùng ở phía Server, OpenLayer được xem như là một framework tiêu chuẩn để hiển thị trên bản đồ trên thiết bị Client.\n",
        "Những năm gần đây, WebGIS vẫn là công nghệ tiêu chuẩn để xây dựng hệ thống GIS. Tuy nhiên đối với hệ thống có nhiều người truy cập, phía Server thường được triển khai theo mô hình điện toán đám mây (cloud computing) để tận dụng được tài nguyên và tốc độ xử lý máy chủ. Mặt khác, với sự thành công của trí tuệ nhân tạo (AI) ở nhiều lĩnh vực khác nhau nên việc sử dụng AI trên các hệ thống GIS để dự đoán hay gợi ý giải pháp cho người dùng cũng là một xu hướng tất yếu trong những năm tới đấy.\n",
        "Dựa trên nhu cầu và mục đích sử dụng, phần mềm Bản đồ địa kỹ thuật Thành phố Hải Dương được xây dựng trên mô hình Client – Server và sử dụng công nghệ WebGIS. Theo đó, WebServer được phát triển trên nền tảng mã nguồn mở PHP và sử dụng hệ quản trị cơ sở dữ liệu PostgressSQL/PostGIS. Nội dung chi tiết sẽ được trình bày trong các mục tiếp theo.\n"
      ],
      "metadata": {
        "id": "u_H_mpFpGQP0"
      }
    }
  ],
  "metadata": {
    "colab": {
      "provenance": [],
      "toc_visible": true,
      "include_colab_link": true
    },
    "kernelspec": {
      "display_name": "Python 3",
      "name": "python3"
    },
    "language_info": {
      "name": "python"
    }
  },
  "nbformat": 4,
  "nbformat_minor": 0
}