{
  "cells": [
    {
      "cell_type": "markdown",
      "metadata": {
        "id": "view-in-github",
        "colab_type": "text"
      },
      "source": [
        "<a href=\"https://colab.research.google.com/github/vuongvmu/GoogleColabDemoCode/blob/main/Translate.ipynb\" target=\"_parent\"><img src=\"https://colab.research.google.com/assets/colab-badge.svg\" alt=\"Open In Colab\"/></a>"
      ]
    },
    {
      "cell_type": "code",
      "source": [
        "# @title Click `Install`. { display-mode: \"form\" }\n",
        "!pip install deep_translator\n",
        "import ipywidgets as widgets\n",
        "from deep_translator import GoogleTranslator\n",
        "# button = widgets.Button(description=\"Translate\")\n",
        "# output = widgets.Output()"
      ],
      "metadata": {
        "id": "Zh6GvdmBxq4b"
      },
      "execution_count": null,
      "outputs": []
    },
    {
      "cell_type": "code",
      "source": [
        "\n",
        "# @title Click `Show code`. { display-mode: \"form\" }\n",
        "\n",
        "Input_text = 'Xin ch\\xE0o' # @param {type:\"string\"}\n",
        "source = \"auto\" # @param [\"auto\",\"en\", \"vi\", \"ko\", \"zh-CN\", \"zh-TW\"]\n",
        "target = 'en' # @param [\"en\", \"vi\", \"ko\",\"zh-CN\",\"zh-TW\"] {allow-input: true}\n",
        "translated = GoogleTranslator(source=source, target=target).translate(text=Input_text)\n",
        "print(translated)\n",
        "\n"
      ],
      "metadata": {
        "id": "8246SUhMh6-K",
        "outputId": "9cd2679c-e250-465b-cfb7-92672e8e877a",
        "colab": {
          "base_uri": "https://localhost:8080/"
        }
      },
      "execution_count": 23,
      "outputs": [
        {
          "output_type": "stream",
          "name": "stdout",
          "text": [
            "Hello\n"
          ]
        }
      ]
    }
  ],
  "metadata": {
    "colab": {
      "provenance": [],
      "toc_visible": true,
      "include_colab_link": true
    },
    "kernelspec": {
      "display_name": "Python 3",
      "name": "python3"
    },
    "language_info": {
      "name": "python"
    }
  },
  "nbformat": 4,
  "nbformat_minor": 0
}