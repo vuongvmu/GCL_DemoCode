{
  "cells": [
    {
      "cell_type": "markdown",
      "metadata": {
        "id": "view-in-github",
        "colab_type": "text"
      },
      "source": [
        "<a href=\"https://colab.research.google.com/github/vuongvmu/GoogleColabDemoCode/blob/main/Translate.ipynb\" target=\"_parent\"><img src=\"https://colab.research.google.com/assets/colab-badge.svg\" alt=\"Open In Colab\"/></a>"
      ]
    },
    {
      "cell_type": "code",
      "source": [
        "# @title Click `Install`. { display-mode: \"form\" }\n",
        "!pip install deep_translator\n",
        "import ipywidgets as widgets\n",
        "from IPython.display import display\n",
        "import re\n",
        "import sys\n",
        "from deep_translator import GoogleTranslator\n",
        "button = widgets.Button(description=\"Translate\")\n",
        "output = widgets.Output()"
      ],
      "metadata": {
        "id": "Zh6GvdmBxq4b"
      },
      "execution_count": null,
      "outputs": []
    },
    {
      "cell_type": "code",
      "source": [
        "\n",
        "# @title Click `Show code`. { display-mode: \"form\" }\n",
        "\n",
        "Input_text = 'Xin ch\\xE0o' # @param {type:\"string\"}\n",
        "source = \"auto\" # @param [\"auto\",\"en\", \"vi\", \"ko\", \"zh-CN\", \"zh-TW\"]\n",
        "target = 'ko' # @param [\"en\", \"vi\", \"ko\",\"zh-CN\",\"zh-TW\"] {allow-input: true}\n",
        "\n",
        "# def on_button_clicked(b):\n",
        "#   # Display the message within the output widget.\n",
        "#   with output:\n",
        "#     translated = GoogleTranslator(source=source, target=target).translate(text=Input_text)\n",
        "#     print(translated)\n",
        "\n",
        "# button.on_click(on_button_clicked)\n",
        "# display(button, output)\n",
        "translated = GoogleTranslator(source=source, target=target).translate(text=Input_text)\n",
        "print(translated)\n",
        "\n"
      ],
      "metadata": {
        "id": "8246SUhMh6-K",
        "outputId": "baf480d6-7e39-4f29-8b6b-dbccd4464852",
        "colab": {
          "base_uri": "https://localhost:8080/"
        }
      },
      "execution_count": 19,
      "outputs": [
        {
          "output_type": "stream",
          "name": "stdout",
          "text": [
            "안녕하세요\n"
          ]
        }
      ]
    }
  ],
  "metadata": {
    "colab": {
      "provenance": [],
      "toc_visible": true,
      "include_colab_link": true
    },
    "kernelspec": {
      "display_name": "Python 3",
      "name": "python3"
    },
    "language_info": {
      "name": "python"
    }
  },
  "nbformat": 4,
  "nbformat_minor": 0
}