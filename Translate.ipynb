{
  "cells": [
    {
      "cell_type": "markdown",
      "metadata": {
        "id": "view-in-github",
        "colab_type": "text"
      },
      "source": [
        "<a href=\"https://colab.research.google.com/github/vuongvmu/GoogleColabDemoCode/blob/main/Translate.ipynb\" target=\"_parent\"><img src=\"https://colab.research.google.com/assets/colab-badge.svg\" alt=\"Open In Colab\"/></a>"
      ]
    },
    {
      "cell_type": "code",
      "source": [
        "# @title ① Step-> Click to `Install`. { display-mode: \"form\" }\n",
        "!pip install deep_translator\n",
        "import ipywidgets as widgets\n",
        "from deep_translator import GoogleTranslator\n",
        "# button = widgets.Button(description=\"Translate\")\n",
        "# output = widgets.Output()"
      ],
      "metadata": {
        "id": "Zh6GvdmBxq4b"
      },
      "execution_count": null,
      "outputs": []
    },
    {
      "cell_type": "code",
      "source": [
        "\n",
        "# @title ② Translate `Show code`. { display-mode: \"form\" }\n",
        "\n",
        "Input_text = 'B\\u1EA1n c\\xF3 kh\\u1ECFe kh\\xF4ng' # @param {type:\"string\"}\n",
        "source = \"auto\" # @param [\"auto\",\"en\", \"vi\", \"ko\", \"zh-CN\", \"zh-TW\"]\n",
        "target = 'en' # @param [\"en\", \"vi\", \"ko\",\"zh-CN\",\"zh-TW\"] {allow-input: true}\n",
        "translated = GoogleTranslator(source=source, target=target).translate(text=Input_text)\n",
        "print(translated)\n",
        "\n"
      ],
      "metadata": {
        "id": "8246SUhMh6-K",
        "outputId": "b39a3331-d936-40ae-8a65-1309f8afa204",
        "colab": {
          "base_uri": "https://localhost:8080/"
        }
      },
      "execution_count": 25,
      "outputs": [
        {
          "output_type": "stream",
          "name": "stdout",
          "text": [
            "How are you\n"
          ]
        }
      ]
    }
  ],
  "metadata": {
    "colab": {
      "provenance": [],
      "toc_visible": true,
      "include_colab_link": true
    },
    "kernelspec": {
      "display_name": "Python 3",
      "name": "python3"
    },
    "language_info": {
      "name": "python"
    }
  },
  "nbformat": 4,
  "nbformat_minor": 0
}