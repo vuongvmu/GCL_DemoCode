{
  "cells": [
    {
      "cell_type": "markdown",
      "metadata": {
        "id": "view-in-github",
        "colab_type": "text"
      },
      "source": [
        "<a href=\"https://colab.research.google.com/github/vuongvmu/GoogleColabDemoCode/blob/main/Translate.ipynb\" target=\"_parent\"><img src=\"https://colab.research.google.com/assets/colab-badge.svg\" alt=\"Open In Colab\"/></a>"
      ]
    },
    {
      "cell_type": "code",
      "source": [
        "# @title Click `Install`. { display-mode: \"form\" }\n",
        "!pip install deep_translator\n",
        "import ipywidgets as widgets\n",
        "from IPython.display import display\n",
        "import re\n",
        "import sys\n",
        "from deep_translator import GoogleTranslator\n",
        "button = widgets.Button(description=\"Translate\")\n",
        "output = widgets.Output()"
      ],
      "metadata": {
        "id": "Zh6GvdmBxq4b"
      },
      "execution_count": null,
      "outputs": []
    },
    {
      "cell_type": "code",
      "source": [
        "\n",
        "# @title Click `Show code`. { display-mode: \"form\" }\n",
        "\n",
        "Input_text = 'Semantic segmentation of medical images is a key step in the diagnosis, treatment and follow-up of many diseases. In clinical practice, medical image segmentation usually uses manual or semi-manual segmentation technology. The disadvantage of these methods is to use hand-made features to obtain segmentation results. On the one hand, it is difficult to design representative characteristics for different applications. On the other hand, functions designed for one type of image often fail in another type of image. Therefore, traditional' # @param {type:\"string\"}\n",
        "source = \"en\" # @param [\"en\", \"vi\", \"ko\", \"zh-CN\", \"zh-TW\"]\n",
        "target = 'vi' # @param [\"en\", \"vi\", \"ko\",\"zh-CN\",\"zh-TW\"] {allow-input: true}\n",
        "\n",
        "# def on_button_clicked(b):\n",
        "#   # Display the message within the output widget.\n",
        "#   with output:\n",
        "#     translated = GoogleTranslator(source=source, target=target).translate(text=Input_text)\n",
        "#     print(translated)\n",
        "\n",
        "# button.on_click(on_button_clicked)\n",
        "# display(button, output)\n",
        "translated = GoogleTranslator(source=source, target=target).translate(text=Input_text)\n",
        "print(translated)\n",
        "\n"
      ],
      "metadata": {
        "id": "8246SUhMh6-K",
        "outputId": "75b1574c-ae36-41b8-f29b-56757f1529c5",
        "colab": {
          "base_uri": "https://localhost:8080/"
        }
      },
      "execution_count": 32,
      "outputs": [
        {
          "output_type": "stream",
          "name": "stdout",
          "text": [
            "Phân đoạn ngữ nghĩa của hình ảnh y tế là một bước quan trọng trong chẩn đoán, điều trị và theo dõi nhiều bệnh. Trong thực hành lâm sàng, phân đoạn hình ảnh y tế thường sử dụng công nghệ phân đoạn thủ công hoặc bán thủ công. Nhược điểm của các phương pháp này là sử dụng các đặc điểm thủ công để thu được kết quả phân đoạn. Một mặt, rất khó để thiết kế các đặc tính đại diện cho các ứng dụng khác nhau. Mặt khác, các chức năng được thiết kế cho một loại hình ảnh thường không hoạt động ở loại hình ảnh khác. Vì vậy, truyền thống\n"
          ]
        }
      ]
    }
  ],
  "metadata": {
    "accelerator": "GPU",
    "colab": {
      "gpuType": "T4",
      "provenance": [],
      "toc_visible": true,
      "include_colab_link": true
    },
    "kernelspec": {
      "display_name": "Python 3",
      "name": "python3"
    },
    "language_info": {
      "name": "python"
    }
  },
  "nbformat": 4,
  "nbformat_minor": 0
}