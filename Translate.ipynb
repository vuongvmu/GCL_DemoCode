{
  "cells": [
    {
      "cell_type": "markdown",
      "metadata": {
        "id": "view-in-github",
        "colab_type": "text"
      },
      "source": [
        "<a href=\"https://colab.research.google.com/github/vuongvmu/GCL_DemoCode/blob/main/Translate.ipynb\" target=\"_parent\"><img src=\"https://colab.research.google.com/assets/colab-badge.svg\" alt=\"Open In Colab\"/></a>"
      ]
    },
    {
      "cell_type": "code",
      "source": [
        "# @title ① Step-> Click to `Install`. { display-mode: \"form\" }\n",
        "!pip install deep_translator\n",
        "!pip install pprint\n",
        "import ipywidgets as widgets\n",
        "from deep_translator import GoogleTranslator\n",
        "import pprint\n",
        "# button = widgets.Button(description=\"Translate\")\n",
        "# output = widgets.Output()"
      ],
      "metadata": {
        "id": "Zh6GvdmBxq4b"
      },
      "execution_count": null,
      "outputs": []
    },
    {
      "cell_type": "code",
      "source": [
        "\n",
        "# @title ② Translate `Show code`. { display-mode: \"form\" }\n",
        "\n",
        "Input_text = 'Hello world' # @param {type:\"string\"}\n",
        "source = \"auto\" # @param [\"auto\",\"en\", \"vi\", \"ko\", \"zh-CN\", \"zh-TW\"]\n",
        "target = 'vi' # @param [\"en\", \"vi\", \"ko\",\"zh-CN\",\"zh-TW\"] {allow-input: true}\n",
        "translated = GoogleTranslator(source=source, target=target).translate(text=Input_text)\n",
        "print('\\033[1m'+f\"▶ Translate from :{source} .......\")\n",
        "print ('\\033[0m')\n",
        "pprint.pprint(Input_text, depth=1, width=120)\n",
        "print(\" \")\n",
        "print('\\033[1m'+f\"▶ Translate to :{target}  ..... \")\n",
        "print ('\\033[0m')\n",
        "pprint.pprint(translated, depth=1, width=120)\n",
        "\n",
        "\n"
      ],
      "metadata": {
        "id": "8246SUhMh6-K",
        "outputId": "73c1728b-df6d-47fc-b49a-090bb7ab9372",
        "colab": {
          "base_uri": "https://localhost:8080/"
        }
      },
      "execution_count": 22,
      "outputs": [
        {
          "output_type": "stream",
          "name": "stdout",
          "text": [
            "\u001b[1m▶ Translate from :auto .......\n",
            "\u001b[0m\n",
            "'Hello world'\n",
            " \n",
            "\u001b[1m▶ Translate to :vi  ..... \n",
            "\u001b[0m\n",
            "'Chào thế giới'\n"
          ]
        }
      ]
    }
  ],
  "metadata": {
    "colab": {
      "provenance": [],
      "toc_visible": true,
      "include_colab_link": true
    },
    "kernelspec": {
      "display_name": "Python 3",
      "name": "python3"
    },
    "language_info": {
      "name": "python"
    }
  },
  "nbformat": 4,
  "nbformat_minor": 0
}