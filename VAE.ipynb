{
  "cells": [
    {
      "cell_type": "markdown",
      "metadata": {
        "id": "view-in-github",
        "colab_type": "text"
      },
      "source": [
        "<a href=\"https://colab.research.google.com/github/vuongvmu/GoogleColabDemoCode/blob/main/VAE.ipynb\" target=\"_parent\"><img src=\"https://colab.research.google.com/assets/colab-badge.svg\" alt=\"Open In Colab\"/></a>"
      ]
    },
    {
      "cell_type": "code",
      "source": [
        "import numpy as np\n",
        "import tensorflow as tf\n",
        "from tensorflow import keras\n",
        "from tensorflow.keras import layers\n",
        "import matplotlib.pyplot as plt"
      ],
      "metadata": {
        "id": "ZnTK0YvniDEU"
      },
      "execution_count": 40,
      "outputs": []
    },
    {
      "cell_type": "code",
      "source": [
        "# @title Creat model { display-mode: \"form\" }\n",
        "latent_dim = 2  # @param {type:\"number\"}\n",
        "stack_filters = [32,64] # @param {type:\"raw\"}\n",
        "class Sampling(layers.Layer):\n",
        "    \"\"\"Uses (z_mean, z_log_var) to sample z, the vector encoding a digit.\"\"\"\n",
        "\n",
        "    def call(self, inputs):\n",
        "        z_mean, z_log_var = inputs\n",
        "        batch = tf.shape(z_mean)[0]\n",
        "        dim = tf.shape(z_mean)[1]\n",
        "        epsilon = tf.random.normal(shape=(batch, dim),seed=5)\n",
        "        return z_mean + tf.exp(0.5 * z_log_var) * epsilon\n",
        "encoder_inputs = keras.Input(shape=(28, 28, 1))\n",
        "x = layers.Conv2D(stack_filters[0], 3, activation=\"relu\", strides=2, padding=\"same\")(encoder_inputs)\n",
        "x = layers.Conv2D(stack_filters[1], 3, activation=\"relu\", strides=2, padding=\"same\")(x)\n",
        "x = layers.Flatten()(x)\n",
        "x = layers.Dense(16, activation=\"relu\")(x)\n",
        "z_mean = layers.Dense(latent_dim, name=\"z_mean\")(x)\n",
        "z_log_var = layers.Dense(latent_dim, name=\"z_log_var\")(x)\n",
        "z = Sampling()([z_mean, z_log_var])\n",
        "encoder = keras.Model(encoder_inputs, [z_mean, z_log_var, z], name=\"encoder\")\n",
        "encoder.summary()\n",
        "\n",
        "latent_inputs = keras.Input(shape=(latent_dim,))\n",
        "x = layers.Dense(7 * 7 * stack_filters[1], activation=\"relu\")(latent_inputs)\n",
        "x = layers.Reshape((7, 7, stack_filters[1]))(x)\n",
        "x = layers.Conv2DTranspose(stack_filters[1], 3, activation=\"relu\", strides=2, padding=\"same\")(x)\n",
        "x = layers.Conv2DTranspose(stack_filters[0], 3, activation=\"relu\", strides=2, padding=\"same\")(x)\n",
        "decoder_outputs = layers.Conv2DTranspose(1, 3, activation=\"sigmoid\", padding=\"same\")(x)\n",
        "decoder = keras.Model(latent_inputs, decoder_outputs, name=\"decoder\")\n",
        "decoder.summary()\n",
        "class VAE(keras.Model):\n",
        "    def __init__(self, encoder, decoder, **kwargs):\n",
        "        super().__init__(**kwargs)\n",
        "        self.encoder = encoder\n",
        "        self.decoder = decoder\n",
        "        self.total_loss_tracker = keras.metrics.Mean(name=\"total_loss\")\n",
        "        self.reconstruction_loss_tracker = keras.metrics.Mean(\n",
        "            name=\"reconstruction_loss\"\n",
        "        )\n",
        "        self.kl_loss_tracker = keras.metrics.Mean(name=\"kl_loss\")\n",
        "\n",
        "    @property\n",
        "    def metrics(self):\n",
        "        return [\n",
        "            self.total_loss_tracker,\n",
        "            self.reconstruction_loss_tracker,\n",
        "            self.kl_loss_tracker,\n",
        "        ]\n",
        "\n",
        "    def train_step(self, data):\n",
        "        with tf.GradientTape() as tape:\n",
        "            z_mean, z_log_var, z = self.encoder(data)\n",
        "            reconstruction = self.decoder(z)\n",
        "            reconstruction_loss = tf.reduce_mean(\n",
        "                tf.reduce_sum(\n",
        "                    keras.losses.mse(data, reconstruction),axis=(1,2)\n",
        "                )\n",
        "            )\n",
        "            kl_loss = -0.5 * (1 + z_log_var - tf.square(z_mean) - tf.exp(z_log_var))\n",
        "            kl_loss = tf.reduce_mean(tf.reduce_sum(kl_loss, axis=1))\n",
        "            total_loss = reconstruction_loss + kl_loss\n",
        "        grads = tape.gradient(total_loss, self.trainable_weights)\n",
        "        self.optimizer.apply_gradients(zip(grads, self.trainable_weights))\n",
        "        self.total_loss_tracker.update_state(total_loss)\n",
        "        self.reconstruction_loss_tracker.update_state(reconstruction_loss)\n",
        "        self.kl_loss_tracker.update_state(kl_loss)\n",
        "        return {\n",
        "            \"loss\": self.total_loss_tracker.result(),\n",
        "            \"reconstruction_loss\": self.reconstruction_loss_tracker.result(),\n",
        "            \"kl_loss\": self.kl_loss_tracker.result(),\n",
        "        }\n",
        "vae = VAE(encoder, decoder)\n",
        "vae.compile(optimizer=keras.optimizers.Adam())"
      ],
      "metadata": {
        "id": "1VLf9QvLiVhB"
      },
      "execution_count": null,
      "outputs": []
    },
    {
      "cell_type": "code",
      "source": [
        "# @title Utils . { display-mode: \"form\" }\n",
        "\n",
        "def display(array1, array2):\n",
        "    \"\"\"\n",
        "    Displays ten random images from each one of the supplied arrays.\n",
        "    \"\"\"\n",
        "    n = 10\n",
        "    indices = np.random.randint(len(array1), size=n)\n",
        "    images1 = array1[indices, :]\n",
        "    images2 = array2[indices, :]\n",
        "    plt.figure(figsize=(20, 4))\n",
        "    for i, (image1, image2) in enumerate(zip(images1, images2)):\n",
        "        ax = plt.subplot(2, n, i + 1)\n",
        "        plt.imshow(image1.reshape(28, 28))\n",
        "        plt.gray()\n",
        "        ax.get_xaxis().set_visible(False)\n",
        "        ax.get_yaxis().set_visible(False)\n",
        "\n",
        "        ax = plt.subplot(2, n, i + 1 + n)\n",
        "        plt.imshow(image2.reshape(28, 28))\n",
        "        plt.gray()\n",
        "        ax.get_xaxis().set_visible(False)\n",
        "        ax.get_yaxis().set_visible(False)\n",
        "    plt.show()\n",
        "def plot_latent_space(vae, n=30, figsize=15):\n",
        "    # display an n*n 2D manifold of digits\n",
        "    digit_size = 28\n",
        "    scale = 1.0\n",
        "    figure = np.zeros((digit_size * n, digit_size * n))\n",
        "    # linearly spaced coordinates corresponding to the 2D plot\n",
        "    # of digit classes in the latent space\n",
        "    grid_x = np.linspace(-scale, scale, n)\n",
        "    grid_y = np.linspace(-scale, scale, n)[::-1]\n",
        "\n",
        "    for i, yi in enumerate(grid_y):\n",
        "        for j, xi in enumerate(grid_x):\n",
        "            z_sample = np.array([[xi, yi]])\n",
        "            x_decoded = vae.decoder.predict(z_sample)\n",
        "            digit = x_decoded[0].reshape(digit_size, digit_size)\n",
        "            figure[\n",
        "                i * digit_size : (i + 1) * digit_size,\n",
        "                j * digit_size : (j + 1) * digit_size,\n",
        "            ] = digit\n",
        "\n",
        "    plt.figure(figsize=(figsize, figsize))\n",
        "    start_range = digit_size // 2\n",
        "    end_range = n * digit_size + start_range\n",
        "    pixel_range = np.arange(start_range, end_range, digit_size)\n",
        "    sample_range_x = np.round(grid_x, 1)\n",
        "    sample_range_y = np.round(grid_y, 1)\n",
        "    plt.xticks(pixel_range, sample_range_x)\n",
        "    plt.yticks(pixel_range, sample_range_y)\n",
        "    plt.xlabel(\"z[0]\")\n",
        "    plt.ylabel(\"z[1]\")\n",
        "    plt.imshow(figure, cmap=\"Greys_r\")\n",
        "    plt.show()\n",
        "def plot_label_clusters(vae, data, labels):\n",
        "    # display a 2D plot of the digit classes in the latent space\n",
        "    z_mean, _, _ = vae.encoder.predict(data)\n",
        "    plt.figure(figsize=(12, 10))\n",
        "    plt.scatter(z_mean[:, 0], z_mean[:, 1], c=labels)\n",
        "    plt.colorbar()\n",
        "    plt.xlabel(\"z[0]\")\n",
        "    plt.ylabel(\"z[1]\")\n",
        "    plt.show()\n"
      ],
      "metadata": {
        "id": "gMbCkeEOiVvL"
      },
      "execution_count": 42,
      "outputs": []
    },
    {
      "cell_type": "code",
      "source": [
        "# @title Pre data . { display-mode: \"form\" }\n",
        "(x_train, y_train), (x_test, y_test) = keras.datasets.mnist.load_data()\n",
        "#mnist_digits = np.concatenate([x_train, x_test], axis=0)\n",
        "mnist_digits = np.expand_dims(x_train, -1).astype(\"float32\") / 255"
      ],
      "metadata": {
        "id": "eVvra3pGiVyi"
      },
      "execution_count": 52,
      "outputs": []
    },
    {
      "cell_type": "code",
      "source": [
        "\n",
        "# @title ① Step-> Click to `train`. { display-mode: \"form\" }\n",
        "epochs = 1000 # @param {type:\"number\"}\n",
        "batch_size=4096# @param {type:\"number\"}\n",
        "vae.fit(mnist_digits, epochs=epochs, batch_size=batch_size)"
      ],
      "metadata": {
        "colab": {
          "base_uri": "https://localhost:8080/"
        },
        "id": "Fb5PxrmdipEG",
        "outputId": "9f81f39a-de7c-428a-9e71-268f2872e4f4"
      },
      "execution_count": null,
      "outputs": [
        {
          "output_type": "stream",
          "name": "stdout",
          "text": [
            "Epoch 1/1000\n",
            "15/15 [==============================] - 6s 174ms/step - loss: 169.2487 - reconstruction_loss: 148.8637 - kl_loss: 3.4960\n",
            "Epoch 2/1000\n",
            "15/15 [==============================] - 3s 172ms/step - loss: 88.3781 - reconstruction_loss: 78.8704 - kl_loss: 1.8155\n",
            "Epoch 3/1000\n",
            "15/15 [==============================] - 3s 169ms/step - loss: 65.5993 - reconstruction_loss: 63.1386 - kl_loss: 0.0172\n",
            "Epoch 4/1000\n",
            "15/15 [==============================] - 3s 169ms/step - loss: 57.5948 - reconstruction_loss: 56.9454 - kl_loss: 0.0101\n",
            "Epoch 5/1000\n",
            "15/15 [==============================] - 3s 171ms/step - loss: 55.3820 - reconstruction_loss: 55.1479 - kl_loss: 0.0154\n",
            "Epoch 6/1000\n",
            "15/15 [==============================] - 3s 172ms/step - loss: 54.5899 - reconstruction_loss: 54.4117 - kl_loss: 0.0136\n",
            "Epoch 7/1000\n",
            "15/15 [==============================] - 3s 175ms/step - loss: 54.0994 - reconstruction_loss: 54.0479 - kl_loss: 0.0115\n",
            "Epoch 8/1000\n",
            "15/15 [==============================] - 3s 172ms/step - loss: 53.8097 - reconstruction_loss: 53.7766 - kl_loss: 0.0225\n",
            "Epoch 9/1000\n",
            "15/15 [==============================] - 3s 172ms/step - loss: 53.6112 - reconstruction_loss: 53.4724 - kl_loss: 0.0937\n",
            "Epoch 10/1000\n",
            "15/15 [==============================] - 3s 171ms/step - loss: 53.2873 - reconstruction_loss: 52.9702 - kl_loss: 0.2834\n",
            "Epoch 11/1000\n",
            "15/15 [==============================] - 3s 172ms/step - loss: 52.8411 - reconstruction_loss: 52.1767 - kl_loss: 0.5786\n",
            "Epoch 12/1000\n",
            "15/15 [==============================] - 3s 171ms/step - loss: 52.3393 - reconstruction_loss: 51.3553 - kl_loss: 0.7987\n",
            "Epoch 13/1000\n",
            "15/15 [==============================] - 3s 170ms/step - loss: 51.6941 - reconstruction_loss: 50.6069 - kl_loss: 0.9476\n",
            "Epoch 14/1000\n",
            "15/15 [==============================] - 3s 169ms/step - loss: 51.1610 - reconstruction_loss: 50.0583 - kl_loss: 1.0249\n",
            "Epoch 15/1000\n",
            "15/15 [==============================] - 3s 169ms/step - loss: 50.8228 - reconstruction_loss: 49.6254 - kl_loss: 1.1050\n",
            "Epoch 16/1000\n",
            "15/15 [==============================] - 3s 172ms/step - loss: 50.4175 - reconstruction_loss: 49.2360 - kl_loss: 1.1507\n",
            "Epoch 17/1000\n",
            "15/15 [==============================] - 3s 170ms/step - loss: 50.1939 - reconstruction_loss: 48.9130 - kl_loss: 1.1857\n",
            "Epoch 18/1000\n",
            "15/15 [==============================] - 3s 167ms/step - loss: 49.8752 - reconstruction_loss: 48.6359 - kl_loss: 1.1975\n",
            "Epoch 19/1000\n",
            "15/15 [==============================] - 3s 169ms/step - loss: 49.6078 - reconstruction_loss: 48.3404 - kl_loss: 1.2299\n",
            "Epoch 20/1000\n",
            "15/15 [==============================] - 3s 167ms/step - loss: 49.4165 - reconstruction_loss: 48.0621 - kl_loss: 1.2569\n",
            "Epoch 21/1000\n",
            "15/15 [==============================] - 3s 170ms/step - loss: 49.1159 - reconstruction_loss: 47.7923 - kl_loss: 1.2922\n",
            "Epoch 22/1000\n",
            "15/15 [==============================] - 3s 167ms/step - loss: 48.8631 - reconstruction_loss: 47.5231 - kl_loss: 1.3443\n",
            "Epoch 23/1000\n",
            "15/15 [==============================] - 3s 167ms/step - loss: 48.7110 - reconstruction_loss: 47.2560 - kl_loss: 1.3917\n",
            "Epoch 24/1000\n",
            "15/15 [==============================] - 3s 170ms/step - loss: 48.5002 - reconstruction_loss: 46.9613 - kl_loss: 1.4369\n",
            "Epoch 25/1000\n",
            "15/15 [==============================] - 3s 167ms/step - loss: 48.2024 - reconstruction_loss: 46.7136 - kl_loss: 1.4927\n",
            "Epoch 26/1000\n",
            "15/15 [==============================] - 3s 172ms/step - loss: 48.0391 - reconstruction_loss: 46.4902 - kl_loss: 1.5269\n",
            "Epoch 27/1000\n",
            "15/15 [==============================] - 3s 167ms/step - loss: 47.9103 - reconstruction_loss: 46.2809 - kl_loss: 1.5530\n",
            "Epoch 28/1000\n",
            "15/15 [==============================] - 3s 168ms/step - loss: 47.7208 - reconstruction_loss: 46.1210 - kl_loss: 1.5886\n",
            "Epoch 29/1000\n",
            "15/15 [==============================] - 3s 167ms/step - loss: 47.6103 - reconstruction_loss: 45.9205 - kl_loss: 1.6370\n",
            "Epoch 30/1000\n",
            "15/15 [==============================] - 3s 168ms/step - loss: 47.4475 - reconstruction_loss: 45.6925 - kl_loss: 1.6849\n",
            "Epoch 31/1000\n",
            "15/15 [==============================] - 3s 171ms/step - loss: 47.2134 - reconstruction_loss: 45.4032 - kl_loss: 1.7655\n",
            "Epoch 32/1000\n",
            "15/15 [==============================] - 3s 167ms/step - loss: 46.8671 - reconstruction_loss: 44.9019 - kl_loss: 1.9264\n",
            "Epoch 33/1000\n",
            "15/15 [==============================] - 3s 169ms/step - loss: 46.4212 - reconstruction_loss: 44.0052 - kl_loss: 2.2403\n",
            "Epoch 34/1000\n",
            "15/15 [==============================] - 3s 168ms/step - loss: 45.5852 - reconstruction_loss: 42.7036 - kl_loss: 2.6679\n",
            "Epoch 35/1000\n",
            "15/15 [==============================] - 3s 169ms/step - loss: 44.6229 - reconstruction_loss: 41.6419 - kl_loss: 2.9262\n",
            "Epoch 36/1000\n",
            "15/15 [==============================] - 3s 173ms/step - loss: 44.1070 - reconstruction_loss: 41.0119 - kl_loss: 3.0230\n",
            "Epoch 37/1000\n",
            "15/15 [==============================] - 3s 169ms/step - loss: 43.6908 - reconstruction_loss: 40.6075 - kl_loss: 3.0930\n",
            "Epoch 38/1000\n",
            "15/15 [==============================] - 3s 169ms/step - loss: 43.4484 - reconstruction_loss: 40.1717 - kl_loss: 3.1922\n",
            "Epoch 39/1000\n",
            "15/15 [==============================] - 3s 169ms/step - loss: 43.0221 - reconstruction_loss: 39.8011 - kl_loss: 3.2491\n",
            "Epoch 40/1000\n",
            "15/15 [==============================] - 3s 170ms/step - loss: 42.8834 - reconstruction_loss: 39.5060 - kl_loss: 3.3233\n",
            "Epoch 41/1000\n",
            "15/15 [==============================] - 3s 172ms/step - loss: 42.5796 - reconstruction_loss: 39.1948 - kl_loss: 3.3725\n",
            "Epoch 42/1000\n",
            "15/15 [==============================] - 3s 170ms/step - loss: 42.4752 - reconstruction_loss: 38.9772 - kl_loss: 3.4224\n",
            "Epoch 43/1000\n",
            "15/15 [==============================] - 3s 170ms/step - loss: 42.1492 - reconstruction_loss: 38.7579 - kl_loss: 3.4532\n",
            "Epoch 44/1000\n",
            "15/15 [==============================] - 3s 170ms/step - loss: 42.0891 - reconstruction_loss: 38.5368 - kl_loss: 3.5043\n",
            "Epoch 45/1000\n",
            "15/15 [==============================] - 3s 172ms/step - loss: 41.9159 - reconstruction_loss: 38.2853 - kl_loss: 3.5660\n",
            "Epoch 46/1000\n",
            "15/15 [==============================] - 3s 171ms/step - loss: 41.7202 - reconstruction_loss: 38.0776 - kl_loss: 3.6170\n",
            "Epoch 47/1000\n",
            "15/15 [==============================] - 3s 169ms/step - loss: 41.6803 - reconstruction_loss: 37.9411 - kl_loss: 3.6384\n",
            "Epoch 48/1000\n",
            "15/15 [==============================] - 3s 169ms/step - loss: 41.4125 - reconstruction_loss: 37.6604 - kl_loss: 3.7019\n",
            "Epoch 49/1000\n",
            "15/15 [==============================] - 3s 170ms/step - loss: 41.2008 - reconstruction_loss: 37.4639 - kl_loss: 3.7337\n",
            "Epoch 50/1000\n",
            "15/15 [==============================] - 3s 172ms/step - loss: 41.0998 - reconstruction_loss: 37.2291 - kl_loss: 3.7941\n",
            "Epoch 51/1000\n",
            "15/15 [==============================] - 3s 169ms/step - loss: 40.8877 - reconstruction_loss: 37.0745 - kl_loss: 3.8172\n",
            "Epoch 52/1000\n",
            "15/15 [==============================] - 3s 170ms/step - loss: 40.7612 - reconstruction_loss: 36.8823 - kl_loss: 3.8742\n",
            "Epoch 53/1000\n",
            "15/15 [==============================] - 3s 170ms/step - loss: 40.7420 - reconstruction_loss: 36.7388 - kl_loss: 3.8984\n",
            "Epoch 54/1000\n",
            "15/15 [==============================] - 3s 169ms/step - loss: 40.5381 - reconstruction_loss: 36.6188 - kl_loss: 3.9189\n",
            "Epoch 55/1000\n",
            "15/15 [==============================] - 3s 173ms/step - loss: 40.4860 - reconstruction_loss: 36.4841 - kl_loss: 3.9493\n",
            "Epoch 56/1000\n",
            "15/15 [==============================] - 3s 169ms/step - loss: 40.3842 - reconstruction_loss: 36.3164 - kl_loss: 3.9922\n",
            "Epoch 57/1000\n",
            "15/15 [==============================] - 3s 169ms/step - loss: 40.1893 - reconstruction_loss: 36.1897 - kl_loss: 4.0117\n",
            "Epoch 58/1000\n",
            "15/15 [==============================] - 3s 169ms/step - loss: 40.3121 - reconstruction_loss: 36.2353 - kl_loss: 4.0144\n",
            "Epoch 59/1000\n",
            "10/15 [===================>..........] - ETA: 0s - loss: 40.0086 - reconstruction_loss: 36.0261 - kl_loss: 4.0178"
          ]
        }
      ]
    },
    {
      "cell_type": "code",
      "source": [
        "z_mean, _, z = vae.encoder.predict(x_test)\n",
        "x_decoded = vae.decoder.predict(z)\n",
        "display(x_test,x_decoded)"
      ],
      "metadata": {
        "colab": {
          "base_uri": "https://localhost:8080/",
          "height": 237
        },
        "id": "ho_mnQdripIT",
        "outputId": "df1597c5-ea9f-4fae-9b94-892ee6fc196e"
      },
      "execution_count": 80,
      "outputs": [
        {
          "output_type": "stream",
          "name": "stdout",
          "text": [
            "313/313 [==============================] - 1s 2ms/step\n",
            "313/313 [==============================] - 1s 2ms/step\n"
          ]
        },
        {
          "output_type": "display_data",
          "data": {
            "text/plain": [
              "<Figure size 2000x400 with 20 Axes>"
            ],
            "image/png": "[encoded data removed]"
          },
          "metadata": {}
        }
      ]
    },
    {
      "cell_type": "code",
      "source": [
        "# plot_latent_space(vae)\n",
        "\n",
        "# (x_train, y_train), _ = keras.datasets.mnist.load_data()\n",
        "# x_train = np.expand_dims(x_train, -1).astype(\"float32\") / 255\n",
        "\n",
        "# plot_label_clusters(vae, x_train, y_train)"
      ],
      "metadata": {
        "id": "1lI5TwrripQO"
      },
      "execution_count": null,
      "outputs": []
    },
    {
      "cell_type": "code",
      "source": [],
      "metadata": {
        "id": "fDQWk7xliV-w"
      },
      "execution_count": null,
      "outputs": []
    }
  ],
  "metadata": {
    "colab": {
      "provenance": [],
      "toc_visible": true,
      "gpuType": "T4",
      "include_colab_link": true
    },
    "kernelspec": {
      "display_name": "Python 3",
      "name": "python3"
    },
    "language_info": {
      "name": "python"
    },
    "accelerator": "GPU"
  },
  "nbformat": 4,
  "nbformat_minor": 0
}