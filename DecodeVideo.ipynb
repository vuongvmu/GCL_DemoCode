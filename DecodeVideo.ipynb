{
  "cells": [
    {
      "cell_type": "markdown",
      "metadata": {
        "id": "view-in-github",
        "colab_type": "text"
      },
      "source": [
        "<a href=\"https://colab.research.google.com/github/vuongvmu/GCL_DemoCode/blob/main/DecodeVideo.ipynb\" target=\"_parent\"><img src=\"https://colab.research.google.com/assets/colab-badge.svg\" alt=\"Open In Colab\"/></a>"
      ]
    },
    {
      "cell_type": "code",
      "source": [
        "\n",
        "import asyncio\n",
        "import av\n",
        "import cv2\n",
        "import io\n",
        "from multiprocessing import Process, Queue, Event\n",
        "import time\n",
        "import websockets\n",
        "import socket\n",
        "import time\n",
        "import base64\n",
        "import os\n",
        "\n",
        "def decode(terminated, data_queue):\n",
        "     memBuff=io.BytesIO()\n",
        "     cur_pos=0\n",
        "     frames_buffer=[]\n",
        "     pts_offset=None\n",
        "     got_key_frame = False\n",
        "     codec = av.codec.CodecContext.create(\"h264\", 'r')\n",
        "\n",
        "     while not terminated.is_set():\n",
        "          try:\n",
        "               data=data_queue.get_nowait() #Lấy tất cả buff trong queue\n",
        "          except:\n",
        "               time.sleep(0.01)\n",
        "               continue\n",
        "          memBuff.write(data)# lưu data vào memory\n",
        "          memBuff.seek(cur_pos)\n",
        "          if cur_pos==0:\n",
        "               container =av.open(memBuff,mode='r')\n",
        "          cur_pos+=len(data)\n",
        "          dts=None\n",
        "          for packet in container.demux():\n",
        "               if packet.size == 0:\n",
        "                   continue\n",
        "               dts = packet.dts #decoding timestamp\n",
        "               if pts_offset is None:\n",
        "                   pts_offset = packet.pts #presentation timestamp\n",
        "               if not got_key_frame and packet.is_keyframe:\n",
        "                   got_key_frame = True\n",
        "               if data_queue.qsize() > 8 and not packet.is_keyframe:\n",
        "                   got_key_frame = False\n",
        "                   continue\n",
        "               if not got_key_frame:\n",
        "                   continue\n",
        "               frames = codec.decode(packet)# decode video\n",
        "               for frame in frames:\n",
        "                    data_queue.put(frame.to_ndarray(format='bgr24'))# covert frame to ndarray\n",
        "          if dts is not None:\n",
        "              container.seek(25000)\n",
        "          memBuff.seek(cur_pos)\n",
        "     terminated.set()"
      ],
      "metadata": {
        "id": "_XeXf4gbufcE"
      },
      "execution_count": null,
      "outputs": []
    },
    {
      "cell_type": "code",
      "source": [
        "#Start thread\n",
        "data_queue = Queue()\n",
        "terminated = Event()\n",
        "\n",
        ".... thread.....\n"
      ],
      "metadata": {
        "id": "EQcYx_kgufe-"
      },
      "execution_count": null,
      "outputs": []
    },
    {
      "cell_type": "code",
      "source": [],
      "metadata": {
        "id": "mBkYlDRzufh0"
      },
      "execution_count": null,
      "outputs": []
    }
  ],
  "metadata": {
    "colab": {
      "provenance": [],
      "toc_visible": true,
      "include_colab_link": true
    },
    "kernelspec": {
      "display_name": "Python 3",
      "name": "python3"
    },
    "language_info": {
      "name": "python"
    }
  },
  "nbformat": 4,
  "nbformat_minor": 0
}