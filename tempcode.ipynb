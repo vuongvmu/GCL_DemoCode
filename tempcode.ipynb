{
  "cells": [
    {
      "cell_type": "markdown",
      "metadata": {
        "id": "view-in-github",
        "colab_type": "text"
      },
      "source": [
        "<a href=\"https://colab.research.google.com/github/vuongvmu/GCL_DemoCode/blob/main/tempcode.ipynb\" target=\"_parent\"><img src=\"https://colab.research.google.com/assets/colab-badge.svg\" alt=\"Open In Colab\"/></a>"
      ]
    },
    {
      "cell_type": "code",
      "source": [
        "#Load model final and token\n",
        "device= \"cuda:0\"\n",
        "model = AutoModelForCausalLM.from_pretrained(model_final, torch_dtype=torch.float16, load_in_8bit=False,\n",
        "                                             device_map=device,\n",
        "                                             trust_remote_code=True)\n",
        "tokenizer = AutoTokenizer.from_pretrained(model_final)"
      ],
      "metadata": {
        "id": "zKmcqKPtPLdP"
      },
      "execution_count": null,
      "outputs": []
    },
    {
      "cell_type": "code",
      "source": [
        "#Test thu model\n",
        "eval_prompt = \"\"\"You are a powerful text-to-SQL model. Your job is to answer questions about a database. You are given a question and context regarding one or more tables.\n",
        "You must output the SQL query that answers the question.\n",
        "### Input:\n",
        "What was the yesterday's output of xxxxxx_xxxx, xxxxxx_xxxx and xxxxxx_xxxx?\n",
        "\n",
        "### Context:\n",
        "xxx\n",
        "### Response:\n",
        "\"\"\"\n",
        "model_input = tokenizer(eval_prompt, return_tensors=\"pt\").to(\"cuda\")\n",
        "\n",
        "model.eval()\n",
        "with torch.no_grad():\n",
        "    print(tokenizer.decode(model.generate(**model_input, max_new_tokens=100)[0], skip_special_tokens=True))"
      ],
      "metadata": {
        "id": "9GxfByv8PLgG"
      },
      "execution_count": null,
      "outputs": []
    },
    {
      "cell_type": "code",
      "source": [
        "model_final='/content/drive/MyDrive/nsql-final'\n",
        "device= \"auto\"\n",
        "mod = AutoModelForCausalLM.from_pretrained(model_final, torch_dtype=torch.float16, load_in_8bit=False,\n",
        "                                             device_map=device,\n",
        "                                             trust_remote_code=True)\n",
        "tokenizer = AutoTokenizer.from_pretrained(model_final)\n",
        "\n",
        "model_input = tokenizer(eval_prompt, return_tensors=\"pt\").to(\"cuda\")\n",
        "\n",
        "mod.eval()\n",
        "with torch.no_grad():\n",
        "    print(tokenizer.decode(mod.generate(**model_input, max_new_tokens=100)[0], skip_special_tokens=True))"
      ],
      "metadata": {
        "id": "OHTt8GUqPLjB"
      },
      "execution_count": null,
      "outputs": []
    },
    {
      "cell_type": "code",
      "source": [],
      "metadata": {
        "id": "5eCHd2MzPgk0"
      },
      "execution_count": null,
      "outputs": []
    },
    {
      "cell_type": "code",
      "source": [],
      "metadata": {
        "id": "AipCC977PLlr"
      },
      "execution_count": null,
      "outputs": []
    },
    {
      "cell_type": "code",
      "source": [],
      "metadata": {
        "id": "8fC2GVoKPLod"
      },
      "execution_count": null,
      "outputs": []
    }
  ],
  "metadata": {
    "colab": {
      "provenance": [],
      "toc_visible": true,
      "include_colab_link": true
    },
    "kernelspec": {
      "display_name": "Python 3",
      "name": "python3"
    },
    "language_info": {
      "name": "python"
    }
  },
  "nbformat": 4,
  "nbformat_minor": 0
}